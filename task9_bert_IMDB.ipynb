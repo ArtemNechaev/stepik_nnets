{
  "cells": [
    {
      "cell_type": "markdown",
      "metadata": {
        "id": "view-in-github",
        "colab_type": "text"
      },
      "source": [
        "<a href=\"https://colab.research.google.com/github/ArtemNechaev/stepik_nnets/blob/main/task9_bert_IMDB.ipynb\" target=\"_parent\"><img src=\"https://colab.research.google.com/assets/colab-badge.svg\" alt=\"Open In Colab\"/></a>"
      ]
    },
    {
      "cell_type": "markdown",
      "metadata": {
        "id": "jNKaJz5j_ylj"
      },
      "source": [
        "# Определение эмоциональной окраски отзывов IMDB c помощью BERT"
      ]
    },
    {
      "cell_type": "code",
      "execution_count": null,
      "metadata": {
        "id": "LCaXJjHp-uQy"
      },
      "outputs": [],
      "source": [
        "# Если Вы запускаете ноутбук на colab или kaggle,\n",
        "# выполните следующие строчки, чтобы подгрузить библиотеку dlnlputils:\n",
        "\n",
        "# !git clone https://github.com/Samsung-IT-Academy/stepik-dl-nlp.git && pip install -r stepik-dl-nlp/requirements.txt\n",
        "# import sys; sys.path.append('./stepik-dl-nlp')"
      ]
    },
    {
      "cell_type": "markdown",
      "metadata": {
        "id": "RX_ZDhicpHkV"
      },
      "source": [
        "## Установка библиотек"
      ]
    },
    {
      "cell_type": "code",
      "execution_count": 1,
      "metadata": {
        "id": "0NmMdkZO8R6q",
        "outputId": "a57dddf7-9603-46c8-876e-7cd51d522a0c",
        "colab": {
          "base_uri": "https://localhost:8080/"
        }
      },
      "outputs": [
        {
          "output_type": "stream",
          "name": "stdout",
          "text": [
            "Requirement already satisfied: pytorch-transformers in /usr/local/lib/python3.7/dist-packages (1.2.0)\n",
            "Requirement already satisfied: requests in /usr/local/lib/python3.7/dist-packages (from pytorch-transformers) (2.23.0)\n",
            "Requirement already satisfied: boto3 in /usr/local/lib/python3.7/dist-packages (from pytorch-transformers) (1.21.36)\n",
            "Requirement already satisfied: regex in /usr/local/lib/python3.7/dist-packages (from pytorch-transformers) (2019.12.20)\n",
            "Requirement already satisfied: tqdm in /usr/local/lib/python3.7/dist-packages (from pytorch-transformers) (4.63.0)\n",
            "Requirement already satisfied: numpy in /usr/local/lib/python3.7/dist-packages (from pytorch-transformers) (1.21.5)\n",
            "Requirement already satisfied: torch>=1.0.0 in /usr/local/lib/python3.7/dist-packages (from pytorch-transformers) (1.10.0+cu111)\n",
            "Requirement already satisfied: sacremoses in /usr/local/lib/python3.7/dist-packages (from pytorch-transformers) (0.0.49)\n",
            "Requirement already satisfied: sentencepiece in /usr/local/lib/python3.7/dist-packages (from pytorch-transformers) (0.1.96)\n",
            "Requirement already satisfied: typing-extensions in /usr/local/lib/python3.7/dist-packages (from torch>=1.0.0->pytorch-transformers) (3.10.0.2)\n",
            "Requirement already satisfied: s3transfer<0.6.0,>=0.5.0 in /usr/local/lib/python3.7/dist-packages (from boto3->pytorch-transformers) (0.5.2)\n",
            "Requirement already satisfied: botocore<1.25.0,>=1.24.36 in /usr/local/lib/python3.7/dist-packages (from boto3->pytorch-transformers) (1.24.36)\n",
            "Requirement already satisfied: jmespath<2.0.0,>=0.7.1 in /usr/local/lib/python3.7/dist-packages (from boto3->pytorch-transformers) (1.0.0)\n",
            "Requirement already satisfied: python-dateutil<3.0.0,>=2.1 in /usr/local/lib/python3.7/dist-packages (from botocore<1.25.0,>=1.24.36->boto3->pytorch-transformers) (2.8.2)\n",
            "Requirement already satisfied: urllib3<1.27,>=1.25.4 in /usr/local/lib/python3.7/dist-packages (from botocore<1.25.0,>=1.24.36->boto3->pytorch-transformers) (1.25.11)\n",
            "Requirement already satisfied: six>=1.5 in /usr/local/lib/python3.7/dist-packages (from python-dateutil<3.0.0,>=2.1->botocore<1.25.0,>=1.24.36->boto3->pytorch-transformers) (1.15.0)\n",
            "Requirement already satisfied: chardet<4,>=3.0.2 in /usr/local/lib/python3.7/dist-packages (from requests->pytorch-transformers) (3.0.4)\n",
            "Requirement already satisfied: certifi>=2017.4.17 in /usr/local/lib/python3.7/dist-packages (from requests->pytorch-transformers) (2021.10.8)\n",
            "Requirement already satisfied: idna<3,>=2.5 in /usr/local/lib/python3.7/dist-packages (from requests->pytorch-transformers) (2.10)\n",
            "Requirement already satisfied: click in /usr/local/lib/python3.7/dist-packages (from sacremoses->pytorch-transformers) (7.1.2)\n",
            "Requirement already satisfied: joblib in /usr/local/lib/python3.7/dist-packages (from sacremoses->pytorch-transformers) (1.1.0)\n"
          ]
        }
      ],
      "source": [
        "!pip install pytorch-transformers"
      ]
    },
    {
      "cell_type": "code",
      "execution_count": 2,
      "metadata": {
        "id": "Ok002ceNB8E7"
      },
      "outputs": [],
      "source": [
        "import torch\n",
        "from torchtext.datasets import IMDB\n",
        "#from torch.nn.utils.rnn import pad_sequence\n",
        "from torch.utils.data import TensorDataset, DataLoader, RandomSampler, SequentialSampler\n",
        "from keras.preprocessing.sequence import pad_sequences\n",
        "from tqdm import tqdm\n",
        "from pytorch_transformers import BertTokenizer, BertConfig\n",
        "from pytorch_transformers import AdamW, BertForSequenceClassification\n",
        "from tqdm import tqdm, trange\n",
        "import pandas as pd\n",
        "import io\n",
        "import numpy as np\n",
        "from sklearn.metrics import accuracy_score\n",
        "import matplotlib.pyplot as plt"
      ]
    },
    {
      "cell_type": "code",
      "execution_count": 3,
      "metadata": {
        "id": "oYsV4H8fCpZ-",
        "outputId": "4de18dd5-3bd8-4864-d925-c16adbbf7155",
        "colab": {
          "base_uri": "https://localhost:8080/"
        }
      },
      "outputs": [
        {
          "output_type": "stream",
          "name": "stdout",
          "text": [
            "Tesla K80\n"
          ]
        }
      ],
      "source": [
        "device = torch.device(\"cuda\" if torch.cuda.is_available() else \"cpu\")\n",
        "if device == 'cpu':\n",
        "    print('cpu')\n",
        "else:\n",
        "    n_gpu = torch.cuda.device_count()\n",
        "    print(torch.cuda.get_device_name(0))"
      ]
    },
    {
      "cell_type": "markdown",
      "metadata": {
        "id": "guw6ZNtaswKc"
      },
      "source": [
        "## Загрузка данных\n"
      ]
    },
    {
      "cell_type": "code",
      "source": [
        "train_iter = IMDB(split='train')\n",
        "test_iter = IMDB(split='test')\n",
        "\n",
        "train_labels, train_texts = zip(*train_iter)\n",
        "test_labels, test_texts = zip(*test_iter)\n",
        "set(train_labels)"
      ],
      "metadata": {
        "id": "EBUvTriQOBFT",
        "colab": {
          "base_uri": "https://localhost:8080/"
        },
        "outputId": "e1ac138b-a9fa-4b45-ae79-517cb3522343"
      },
      "execution_count": 4,
      "outputs": [
        {
          "output_type": "execute_result",
          "data": {
            "text/plain": [
              "{'neg', 'pos'}"
            ]
          },
          "metadata": {},
          "execution_count": 4
        }
      ]
    },
    {
      "cell_type": "code",
      "source": [
        "label2id = {'neg': 0, 'pos': 1}"
      ],
      "metadata": {
        "id": "Q2ckFHLa5hwm"
      },
      "execution_count": 5,
      "outputs": []
    },
    {
      "cell_type": "markdown",
      "metadata": {
        "id": "ex5O1eV-Pfct"
      },
      "source": [
        "## Inputs"
      ]
    },
    {
      "cell_type": "markdown",
      "metadata": {
        "id": "87_kXUeT2-br"
      },
      "source": [
        "BERTу нужно предоставить специальный формат входных данных.\n",
        "\n",
        "\n",
        "- **input ids**: последовательность чисел, отождествляющих каждый токен с его номером в словаре.\n",
        "- **labels**: вектор из нулей и единиц. В нашем случае нули обозначают негативную эмоциональную окраску, единицы - положительную.\n",
        "- **segment mask**: (необязательно) последовательность нулей и единиц, которая показывает, состоит ли входной текст из одного или двух предложений. Для случая одного предложения получится вектор из одних нулей. Для двух: <length_of_sent_1> нулей и <length_of_sent_2> единиц.\n",
        "- **attention mask**: (необязательно) последовательность нулей и единиц, где единицы обозначают токены предложения, нули - паддинг."
      ]
    },
    {
      "cell_type": "markdown",
      "source": [
        "### Utils"
      ],
      "metadata": {
        "id": "R-LWIUMxhoPQ"
      }
    },
    {
      "cell_type": "code",
      "source": [
        "def prepare_data(senteses, in_labels, max_sent_len = 200, max_num_subsent = 5):\n",
        "  tokenizer = BertTokenizer.from_pretrained('bert-base-uncased', do_lower_case=True)\n",
        "  input_ids, labels, sent_ids = [], [], []\n",
        "  for sent_id, (sent, label) in enumerate(zip(senteses, in_labels)):\n",
        "    tokens = tokenizer.tokenize(sent)\n",
        "    #if len(tokens) > max_sent_len:\n",
        "    labels.append(label2id[label])\n",
        "    sent_ids.append(sent_id)\n",
        "    for i in range(0, max_sent_len*max_num_subsent, max_sent_len):\n",
        "      input_ids.append(['[CLS]'] + tokens[i:i+max_sent_len] + ['[SEP]'])\n",
        "      \n",
        "    #else:\n",
        "      #input_ids.append(['[CLS]'] + tokens + ['[SEP]'])\n",
        "      #labels.append(label2id[label])\n",
        "      #sent_ids.append(sent_id)\n",
        "\n",
        "  input_ids = [tokenizer.convert_tokens_to_ids(s) for s in input_ids]\n",
        "  input_ids = pad_sequences(\n",
        "    input_ids,\n",
        "    maxlen=max_sent_len + 2,\n",
        "    dtype=\"long\",\n",
        "    truncating=\"post\",\n",
        "    padding=\"post\"\n",
        "  )\n",
        "  attention_masks = [[float(i>0) for i in seq] for seq in input_ids]\n",
        "\n",
        "  input_ids = torch.tensor(input_ids).view(-1,max_num_subsent, max_sent_len + 2 )\n",
        "  labels = torch.tensor(labels)\n",
        "  attention_masks = torch.tensor(attention_masks).view(-1,max_num_subsent, max_sent_len + 2 )\n",
        "  sent_ids = torch.tensor(sent_ids)\n",
        "\n",
        "  dataset = TensorDataset(input_ids, attention_masks, labels, sent_ids)\n",
        "  return dataset"
      ],
      "metadata": {
        "id": "yUDOZvb5P7uX"
      },
      "execution_count": 7,
      "outputs": []
    },
    {
      "cell_type": "code",
      "source": [
        "def prepare_data2(senteses, in_labels, max_sent_len = 200, ):\n",
        "  tokenizer = BertTokenizer.from_pretrained('bert-base-uncased', do_lower_case=True)\n",
        "  input_ids, labels, sent_ids = [], [], []\n",
        "  for sent_id, (sent, label) in enumerate(zip(senteses, in_labels)):\n",
        "    tokens = tokenizer.tokenize(sent)\n",
        "    if len(tokens) > max_sent_len: \n",
        "      for i in range(0, max_sent_len*(len(tokens)//max_sent_len), max_sent_len):\n",
        "        input_ids.append(['[CLS]'] + tokens[i:i+max_sent_len] + ['[SEP]'])\n",
        "        labels.append(label2id[label])\n",
        "        sent_ids.append(sent_id)  \n",
        "    else:\n",
        "      input_ids.append(['[CLS]'] + tokens + ['[SEP]'])\n",
        "      labels.append(label2id[label])\n",
        "      sent_ids.append(sent_id)\n",
        "\n",
        "  input_ids = [tokenizer.convert_tokens_to_ids(s) for s in input_ids]\n",
        "  input_ids = pad_sequences(\n",
        "    input_ids,\n",
        "    maxlen=max_sent_len + 2,\n",
        "    dtype=\"long\",\n",
        "    truncating=\"post\",\n",
        "    padding=\"post\"\n",
        "  )\n",
        "  attention_masks = [[float(i>0) for i in seq] for seq in input_ids]\n",
        "\n",
        "  input_ids = torch.tensor(input_ids)\n",
        "  labels = torch.tensor(labels)\n",
        "  attention_masks = torch.tensor(attention_masks)\n",
        "  \n",
        "  sent_ids = torch.tensor(sent_ids)\n",
        "\n",
        "  dataset = TensorDataset(input_ids, attention_masks, labels, sent_ids)\n",
        "  return dataset"
      ],
      "metadata": {
        "id": "LT92Zw1Nlir3"
      },
      "execution_count": 8,
      "outputs": []
    },
    {
      "cell_type": "markdown",
      "source": [
        "### Подготовка данных"
      ],
      "metadata": {
        "id": "LTTvVYh7huLw"
      }
    },
    {
      "cell_type": "code",
      "execution_count": 43,
      "metadata": {
        "id": "GEgLpFVlo1Z-"
      },
      "outputs": [],
      "source": [
        "train_data = prepare_data2(train_texts, train_labels, max_sent_len = 300,)\n",
        "train_dataloader = DataLoader(\n",
        "    train_data,\n",
        "    sampler=RandomSampler(train_data),\n",
        "    batch_size=10\n",
        ")"
      ]
    },
    {
      "cell_type": "code",
      "execution_count": 41,
      "metadata": {
        "id": "_R-JDIQP-uQ-"
      },
      "outputs": [],
      "source": [
        "validation_data = prepare_data2(test_texts, test_labels, max_sent_len = 300, )\n",
        "validation_dataloader = DataLoader(\n",
        "    validation_data,\n",
        "    sampler=SequentialSampler(validation_data),\n",
        "    batch_size=10\n",
        ")"
      ]
    },
    {
      "cell_type": "markdown",
      "metadata": {
        "id": "pNl8khAhPYju"
      },
      "source": [
        "## Модели"
      ]
    },
    {
      "cell_type": "markdown",
      "metadata": {
        "id": "91oLqxUe-uQ-"
      },
      "source": [
        "Загружаем [BertForSequenceClassification](https://github.com/huggingface/pytorch-pretrained-BERT/blob/master/pytorch_pretrained_bert/modeling.py#L1129):"
      ]
    },
    {
      "cell_type": "code",
      "execution_count": 11,
      "metadata": {
        "id": "JEtCur1z-uQ-"
      },
      "outputs": [],
      "source": [
        "from pytorch_transformers import AdamW, BertForSequenceClassification"
      ]
    },
    {
      "cell_type": "code",
      "source": [
        "class Model(torch.nn.Module):\n",
        "  def __init__(self):\n",
        "    super().__init__()\n",
        "    self.bert = BertForSequenceClassification.from_pretrained(\"bert-base-uncased\", num_labels=2)\n",
        "    self.loss_fn = torch.nn.CrossEntropyLoss()\n",
        "\n",
        "  def forward(self, b_input_ids, b_input_mask, b_labels, b_sent_ids):\n",
        "    #b_input_ids batch_size x max_len_subsent x max_sent_len\n",
        "    max_len_subsent, max_sent_len = b_input_ids.shape[1], b_input_ids.shape[2]\n",
        "\n",
        "    b_input_ids = b_input_ids.view(-1, max_sent_len) #batch_size * max_len_subsent x max_sent_len\n",
        "    b_input_mask = b_input_mask.view(-1, max_sent_len)\n",
        "    logits = self.bert(b_input_ids, token_type_ids=None, attention_mask=b_input_mask)\n",
        "    logits = logits[0].view(-1, max_len_subsent, 2 ).mean(1)\n",
        "    loss = self.loss_fn(logits, b_labels)\n",
        "    if self.training:\n",
        "      loss = self.loss_fn(logits, b_labels)\n",
        "      return logits, loss\n",
        "    else:\n",
        "      return logits, b_labels, b_sent_ids"
      ],
      "metadata": {
        "id": "xL9924ZN3iyi"
      },
      "execution_count": 15,
      "outputs": []
    },
    {
      "cell_type": "code",
      "source": [
        "class Model2(torch.nn.Module):\n",
        "  def __init__(self):\n",
        "    super().__init__()\n",
        "    self.bert = BertForSequenceClassification.from_pretrained(\"bert-base-uncased\", num_labels=50)\n",
        "    self.ln = torch.nn.LayerNorm(50)\n",
        "    self.fc = torch.nn.Linear(50,2)\n",
        "    self.loss_fn = torch.nn.CrossEntropyLoss()\n",
        "\n",
        "  def forward(self, b_input_ids, b_input_mask, b_labels, b_sent_ids):\n",
        "\n",
        "    logits = self.bert(b_input_ids, token_type_ids=None, attention_mask=b_input_mask)\n",
        "\n",
        "    logits = self.ln(logits[0])\n",
        "    ind = b_sent_ids.argsort()\n",
        "    logits = logits[ind]\n",
        "    b_sent_ids = b_sent_ids[ind]\n",
        "    b_labels = b_labels[ind]\n",
        "\n",
        "    _ ,counts = b_sent_ids.unique(return_counts=True)\n",
        "    counts = list(counts.cpu().numpy())\n",
        "    ids = [sum(counts[:i]) for i in range(len(counts))]\n",
        "\n",
        "    logits = torch.cat([t.mean(0, keepdim=True) for t in logits.split(counts)], )\n",
        "    b_labels = b_labels[ids]\n",
        "    b_sent_ids = b_sent_ids[ids]\n",
        "\n",
        "    if self.training:\n",
        "      loss = self.loss_fn(logits, b_labels)\n",
        "      return logits, loss\n",
        "    else:\n",
        "      return logits, b_labels, b_sent_ids\n",
        "    \n",
        "\n",
        "    "
      ],
      "metadata": {
        "id": "7aFRieL7mB7l"
      },
      "execution_count": 33,
      "outputs": []
    },
    {
      "cell_type": "markdown",
      "source": [
        "## Обучение"
      ],
      "metadata": {
        "id": "pR6BmPH_hfzQ"
      }
    },
    {
      "cell_type": "code",
      "execution_count": 44,
      "metadata": {
        "id": "gFsCTp_mporB",
        "colab": {
          "base_uri": "https://localhost:8080/"
        },
        "outputId": "fc354867-bf99-431e-b8ef-11e97ee267ac"
      },
      "outputs": [
        {
          "output_type": "stream",
          "name": "stdout",
          "text": [
            "\n"
          ]
        }
      ],
      "source": [
        "model = Model2()\n",
        "model.cuda()\n",
        "print()"
      ]
    },
    {
      "cell_type": "code",
      "execution_count": 45,
      "metadata": {
        "id": "QxSMw0FrptiL"
      },
      "outputs": [],
      "source": [
        "param_optimizer = list(model.named_parameters())\n",
        "no_decay = ['bias', 'gamma', 'beta']\n",
        "optimizer_grouped_parameters = [\n",
        "    {'params': [p for n, p in param_optimizer if not any(nd in n for nd in no_decay)],\n",
        "     'weight_decay_rate': 0.01},\n",
        "    {'params': [p for n, p in param_optimizer if any(nd in n for nd in no_decay)],\n",
        "     'weight_decay_rate': 0.0}\n",
        "]\n",
        "\n",
        "optimizer = AdamW(optimizer_grouped_parameters, lr=2e-5)\n",
        "loss_fn = torch.nn.CrossEntropyLoss()\n"
      ]
    },
    {
      "cell_type": "code",
      "execution_count": 46,
      "metadata": {
        "id": "6J-FYdx6nFE_",
        "outputId": "c66c25fa-ad00-40ba-9b88-433ac563a281",
        "colab": {
          "base_uri": "https://localhost:8080/",
          "height": 332
        }
      },
      "outputs": [
        {
          "output_type": "display_data",
          "data": {
            "text/plain": [
              "<Figure size 432x288 with 1 Axes>"
            ],
            "image/png": "[encoded data removed]"
          },
          "metadata": {
            "needs_background": "light"
          }
        },
        {
          "output_type": "stream",
          "name": "stderr",
          "text": [
            "2887it [1:00:18,  1.25s/it]"
          ]
        },
        {
          "output_type": "stream",
          "name": "stdout",
          "text": [
            "Loss на обучающей выборке: 0.36402\n"
          ]
        },
        {
          "output_type": "stream",
          "name": "stderr",
          "text": [
            "\n"
          ]
        }
      ],
      "source": [
        "from IPython.display import clear_output\n",
        "\n",
        "# Будем сохранять loss во время обучения\n",
        "# и рисовать график в режиме реального времени\n",
        "train_loss_set = []\n",
        "train_loss = 0\n",
        "\n",
        "\n",
        "# Обучение\n",
        "# Переводим модель в training mode\n",
        "model.train()\n",
        "\n",
        "\n",
        "for step, batch in tqdm(enumerate(train_dataloader)):\n",
        "    # добавляем батч для вычисления на GPU\n",
        "    batch = tuple(t.to(device) for t in batch)\n",
        "    # Распаковываем данные из dataloader\n",
        "    #b_input_ids, b_input_mask, b_labels, b_sent_ids = batch\n",
        "    \n",
        "    # если не сделать .zero_grad(), градиенты будут накапливаться\n",
        "    optimizer.zero_grad()\n",
        "    \n",
        "    # Forward pass\n",
        "    logits, loss = model(*batch)\n",
        "\n",
        "    train_loss_set.append(loss.item())  \n",
        "    \n",
        "    # Backward pass\n",
        "    loss.backward()\n",
        "    \n",
        "    # Обновляем параметры и делаем шаг используя посчитанные градиенты\n",
        "    optimizer.step()\n",
        "\n",
        "    # Обновляем loss\n",
        "    train_loss += loss.item()\n",
        "    \n",
        "    # Рисуем график\n",
        "    clear_output(True)\n",
        "    plt.plot(train_loss_set)\n",
        "    plt.title(\"Training loss\")\n",
        "    plt.xlabel(\"Batch\")\n",
        "    plt.ylabel(\"Loss\")\n",
        "    plt.show()\n",
        "    \n",
        "print(\"Loss на обучающей выборке: {0:.5f}\".format(train_loss / len(train_dataloader)))\n",
        "\n",
        "\n"
      ]
    },
    {
      "cell_type": "code",
      "source": [
        "\n",
        "# Валидация\n",
        "# Переводим модель в evaluation mode\n",
        "model.eval()\n",
        "\n",
        "valid_preds, valid_labels, valid_sent_ids = [], [], []\n",
        "\n",
        "for batch in tqdm(validation_dataloader):   \n",
        "    # добавляем батч для вычисления на GPU\n",
        "    batch = tuple(t.to(device) for t in batch)\n",
        "    \n",
        "    # Распаковываем данные из dataloader\n",
        "    #b_input_ids, b_input_mask, b_labels, b_sent_ids = batch\n",
        "    \n",
        "    # При использовании .no_grad() модель не будет считать и хранить градиенты.\n",
        "    # Это ускорит процесс предсказания меток для валидационных данных.\n",
        "    with torch.no_grad():\n",
        "        logits, b_labels, b_sent_ids = model(*batch)\n",
        "\n",
        "        preds = logits.argmax(1).cpu().numpy()\n",
        "        label_ids = b_labels.cpu().numpy()\n",
        "        sent_ids = b_sent_ids.cpu().numpy()\n",
        "\n",
        "    #batch_labels = np.concatenate(label_ids)     \n",
        "    valid_preds.extend(preds)\n",
        "    valid_labels.extend(label_ids)\n",
        "    valid_sent_ids.extend(sent_ids)\n",
        "\n",
        "print(\"Процент правильных предсказаний на валидационной выборке: {0:.2f}%\".format(\n",
        "    accuracy_score(valid_labels, valid_preds) * 100\n",
        "))"
      ],
      "metadata": {
        "id": "uP_6BJq6SbjW",
        "colab": {
          "base_uri": "https://localhost:8080/"
        },
        "outputId": "dbab98c7-bfd5-41f0-fe7f-844bb8c6c512"
      },
      "execution_count": 47,
      "outputs": [
        {
          "output_type": "stream",
          "name": "stderr",
          "text": [
            "100%|██████████| 2858/2858 [18:28<00:00,  2.58it/s]"
          ]
        },
        {
          "output_type": "stream",
          "name": "stdout",
          "text": [
            "Процент правильных предсказаний на валидационной выборке: 93.09%\n"
          ]
        },
        {
          "output_type": "stream",
          "name": "stderr",
          "text": [
            "\n"
          ]
        }
      ]
    },
    {
      "cell_type": "code",
      "source": [
        "_, ind = np.unique(valid_sent_ids, return_index=True)\n",
        "print(\"Процент правильных предсказаний на валидационной выборке: {0:.2f}%\".format(\n",
        "    accuracy_score(np.array(valid_labels)[ind], np.array(valid_preds)[ind])*100\n",
        "))\n"
      ],
      "metadata": {
        "colab": {
          "base_uri": "https://localhost:8080/"
        },
        "id": "fKwZZWzI2DKU",
        "outputId": "c17054ef-3789-40df-9737-57b6c0e543d0"
      },
      "execution_count": 51,
      "outputs": [
        {
          "output_type": "stream",
          "name": "stdout",
          "text": [
            "Процент правильных предсказаний на валидационной выборке: 93.16%\n"
          ]
        }
      ]
    },
    {
      "cell_type": "markdown",
      "metadata": {
        "id": "mkyubuJSOzg3"
      },
      "source": [
        "# Вопросы"
      ]
    },
    {
      "cell_type": "markdown",
      "metadata": {
        "id": "Qq4tsSHw-uRC"
      },
      "source": [
        "Используйте для дообучения BERT датасет IMDB. "
      ]
    },
    {
      "cell_type": "markdown",
      "metadata": {
        "id": "mG39RwuA-uRD"
      },
      "source": [
        "Ответьте на вопросы:\n",
        "1. удалось ли достичь такого же accuracy (98\\%) при использовании IMDB датасета?\n",
        "2. удалось ли получить хорошее качество классификации всего за одну эпоху?\n",
        "3. подумайте, в чем может быть причина различий в дообучении одной и той же модели на разных датасетах\n",
        "    - Внимательно изучите датасет с русскими твитами. В чем его особенности? Нет ли явных паттернов или ключевых слов, которые однозначно определяют сентимент твита?\n",
        "    - Попробуйте удалить пунктуацию из датасета с русскими твитами и перезапустите дообучение модели. Изменилось ли итоговое качество работы модели? Почему?"
      ]
    },
    {
      "cell_type": "code",
      "source": [
        "from google.colab import drive\n",
        "drive.mount('/content/drive')"
      ],
      "metadata": {
        "colab": {
          "base_uri": "https://localhost:8080/"
        },
        "id": "uwk9FJjz7G6L",
        "outputId": "43550f0b-a358-4f5e-f033-7807df51b876"
      },
      "execution_count": 52,
      "outputs": [
        {
          "output_type": "stream",
          "name": "stdout",
          "text": [
            "Mounted at /content/drive\n"
          ]
        }
      ]
    },
    {
      "cell_type": "code",
      "source": [
        "torch.save(model.state_dict(), 'drive/MyDrive/models/bert_IMDB_model2.pt')"
      ],
      "metadata": {
        "id": "MPrmYhE67IVw"
      },
      "execution_count": 53,
      "outputs": []
    },
    {
      "cell_type": "code",
      "source": [
        ""
      ],
      "metadata": {
        "id": "XA2qJvV47rhQ"
      },
      "execution_count": null,
      "outputs": []
    }
  ],
  "metadata": {
    "colab": {
      "collapsed_sections": [],
      "name": "task9_bert_IMDB.ipynb",
      "provenance": [],
      "toc_visible": true,
      "include_colab_link": true
    },
    "kernelspec": {
      "display_name": "Python 3",
      "language": "python",
      "name": "python3"
    },
    "language_info": {
      "codemirror_mode": {
        "name": "ipython",
        "version": 3
      },
      "file_extension": ".py",
      "mimetype": "text/x-python",
      "name": "python",
      "nbconvert_exporter": "python",
      "pygments_lexer": "ipython3",
      "version": "3.6.8"
    },
    "accelerator": "GPU"
  },
  "nbformat": 4,
  "nbformat_minor": 0
}